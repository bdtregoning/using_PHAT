{
 "cells": [
  {
   "cell_type": "code",
   "execution_count": 1,
   "metadata": {
    "collapsed": true
   },
   "outputs": [],
   "source": [
    "#IMPORT CALLS\n",
    "#uses Persistent Homology Algorithm Toolbox to compute the persistence diagrams \n",
    "#(sub and sup, dimension 0 and 1) of a time series of images\n",
    "# computes for every image in the given directory\n",
    "import os\n",
    "import imgtda\n",
    "from imgtda import standard_analysis as sa\n",
    "from imgtda import computer_vision as cv\n",
    "import pandas as pa\n",
    "import numpy as np\n",
    "import pandas as pd\n",
    "from skimage import morphology\n",
    "from skimage import measure\n",
    "from scipy import ndimage as nd\n",
    "from scipy import misc\n",
    "import matplotlib\n",
    "from matplotlib.patches import Circle, Wedge, Polygon\n",
    "from matplotlib.collections import PatchCollection\n",
    "import matplotlib.pyplot as plt\n",
    "%matplotlib inline\n",
    "import PersistenceExplorer as PE\n",
    "import warnings\n",
    "warnings.filterwarnings('ignore')\n",
    "import gc"
   ]
  },
  {
   "cell_type": "code",
   "execution_count": 2,
   "metadata": {
    "collapsed": true
   },
   "outputs": [],
   "source": [
    "#assign target directory and image name format\n",
    "myproject = imgtda.Project\n",
    "myproject['directory'] = '/media/brett/RBC_data/RBC_data/2016_06_08_Ra_10k/run_01/0608160848_6_fps/shifted_data/processed/filt_sigma_03/'\n",
    "myproject['bmp_format'] = '%05d.bmp'\n",
    "myproject['pd_sub_format'] = 'pd_sub/%05d.csv'\n",
    "myproject['pd_sup_format'] = 'pd_sup/%05d.csv'"
   ]
  },
  {
   "cell_type": "code",
   "execution_count": 3,
   "metadata": {},
   "outputs": [
    {
     "ename": "FileNotFoundError",
     "evalue": "[Errno 2] No such file or directory: '/media/brett/RBC_data/RBC_data/2016_06_08_Ra_10k/run_01/0608160848_6_fps/shifted_data/processed/filt_sigma_03/'",
     "output_type": "error",
     "traceback": [
      "\u001b[0;31m---------------------------------------------------------------------------\u001b[0m",
      "\u001b[0;31mFileNotFoundError\u001b[0m                         Traceback (most recent call last)",
      "\u001b[0;32m<ipython-input-3-423772f07e98>\u001b[0m in \u001b[0;36m<module>\u001b[0;34m()\u001b[0m\n\u001b[0;32m----> 1\u001b[0;31m \u001b[0mPE\u001b[0m\u001b[0;34m.\u001b[0m\u001b[0mProcessImageFolderWithPHAT\u001b[0m\u001b[0;34m(\u001b[0m\u001b[0mmyproject\u001b[0m\u001b[0;34m[\u001b[0m\u001b[0;34m'directory'\u001b[0m\u001b[0;34m]\u001b[0m\u001b[0;34m)\u001b[0m\u001b[0;34m\u001b[0m\u001b[0m\n\u001b[0m",
      "\u001b[0;32m~/anaconda3/lib/python3.6/site-packages/PersistenceExplorer-0.1-py3.6.egg/PersistenceExplorer/PersistenceExplorer.py\u001b[0m in \u001b[0;36mProcessImageFolderWithPHAT\u001b[0;34m(image_foldername, sub_foldername, sup_foldername)\u001b[0m\n\u001b[1;32m    100\u001b[0m     \u001b[0msub_foldername\u001b[0m\u001b[0;34m:\u001b[0m \u001b[0mpath\u001b[0m \u001b[0mto\u001b[0m \u001b[0mput\u001b[0m \u001b[0msublevel\u001b[0m \u001b[0mpersistence\u001b[0m \u001b[0mresults\u001b[0m \u001b[0;34m(\u001b[0m\u001b[0mdefaults\u001b[0m \u001b[0mto\u001b[0m \u001b[0mimage_foldername\u001b[0m\u001b[0;34m/\u001b[0m\u001b[0msup\u001b[0m\u001b[0;34m)\u001b[0m\u001b[0;34m\u001b[0m\u001b[0m\n\u001b[1;32m    101\u001b[0m   \"\"\"\n\u001b[0;32m--> 102\u001b[0;31m   \u001b[0mlist_of_image_filenames\u001b[0m \u001b[0;34m=\u001b[0m \u001b[0;34m[\u001b[0m\u001b[0mfilename\u001b[0m \u001b[0;32mfor\u001b[0m \u001b[0mfilename\u001b[0m \u001b[0;32min\u001b[0m \u001b[0mos\u001b[0m\u001b[0;34m.\u001b[0m\u001b[0mlistdir\u001b[0m\u001b[0;34m(\u001b[0m\u001b[0mimage_foldername\u001b[0m\u001b[0;34m)\u001b[0m \u001b[0;32mif\u001b[0m \u001b[0mos\u001b[0m\u001b[0;34m.\u001b[0m\u001b[0mpath\u001b[0m\u001b[0;34m.\u001b[0m\u001b[0misfile\u001b[0m\u001b[0;34m(\u001b[0m\u001b[0mos\u001b[0m\u001b[0;34m.\u001b[0m\u001b[0mpath\u001b[0m\u001b[0;34m.\u001b[0m\u001b[0mjoin\u001b[0m\u001b[0;34m(\u001b[0m\u001b[0mimage_foldername\u001b[0m\u001b[0;34m,\u001b[0m\u001b[0mfilename\u001b[0m\u001b[0;34m)\u001b[0m\u001b[0;34m)\u001b[0m \u001b[0;32mand\u001b[0m \u001b[0;32mnot\u001b[0m \u001b[0mfilename\u001b[0m\u001b[0;34m.\u001b[0m\u001b[0mendswith\u001b[0m\u001b[0;34m(\u001b[0m\u001b[0;34m'.md'\u001b[0m\u001b[0;34m)\u001b[0m \u001b[0;32mand\u001b[0m \u001b[0;32mnot\u001b[0m \u001b[0mfilename\u001b[0m\u001b[0;34m.\u001b[0m\u001b[0mendswith\u001b[0m\u001b[0;34m(\u001b[0m\u001b[0;34m'.txt'\u001b[0m\u001b[0;34m)\u001b[0m \u001b[0;34m]\u001b[0m\u001b[0;34m\u001b[0m\u001b[0m\n\u001b[0m\u001b[1;32m    103\u001b[0m   \u001b[0mlist_of_output_filenames\u001b[0m \u001b[0;34m=\u001b[0m \u001b[0;34m[\u001b[0m\u001b[0mos\u001b[0m\u001b[0;34m.\u001b[0m\u001b[0mpath\u001b[0m\u001b[0;34m.\u001b[0m\u001b[0msplitext\u001b[0m\u001b[0;34m(\u001b[0m\u001b[0mfilename\u001b[0m\u001b[0;34m)\u001b[0m\u001b[0;34m[\u001b[0m\u001b[0;36m0\u001b[0m\u001b[0;34m]\u001b[0m\u001b[0;34m+\u001b[0m\u001b[0;34m'.csv'\u001b[0m \u001b[0;32mfor\u001b[0m \u001b[0mfilename\u001b[0m \u001b[0;32min\u001b[0m \u001b[0mlist_of_image_filenames\u001b[0m\u001b[0;34m]\u001b[0m\u001b[0;34m\u001b[0m\u001b[0m\n\u001b[1;32m    104\u001b[0m   \u001b[0;32mif\u001b[0m \u001b[0msub_foldername\u001b[0m \u001b[0;32mis\u001b[0m \u001b[0;32mNone\u001b[0m\u001b[0;34m:\u001b[0m\u001b[0;34m\u001b[0m\u001b[0m\n",
      "\u001b[0;31mFileNotFoundError\u001b[0m: [Errno 2] No such file or directory: '/media/brett/RBC_data/RBC_data/2016_06_08_Ra_10k/run_01/0608160848_6_fps/shifted_data/processed/filt_sigma_03/'"
     ]
    }
   ],
   "source": [
    "PE.ProcessImageFolderWithPHAT(myproject['directory'])"
   ]
  },
  {
   "cell_type": "code",
   "execution_count": null,
   "metadata": {
    "collapsed": true
   },
   "outputs": [],
   "source": []
  }
 ],
 "metadata": {
  "kernelspec": {
   "display_name": "Python 3",
   "language": "python",
   "name": "python3"
  },
  "language_info": {
   "codemirror_mode": {
    "name": "ipython",
    "version": 3
   },
   "file_extension": ".py",
   "mimetype": "text/x-python",
   "name": "python",
   "nbconvert_exporter": "python",
   "pygments_lexer": "ipython3",
   "version": "3.6.2"
  }
 },
 "nbformat": 4,
 "nbformat_minor": 2
}
